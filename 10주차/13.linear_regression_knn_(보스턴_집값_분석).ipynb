{
 "cells": [
  {
   "cell_type": "markdown",
   "metadata": {},
   "source": [
    "#### 1.문제 정의 \n",
    "- 보스턴 집값 예측 \n",
    "- 지도학습/ 회귀"
   ]
  },
  {
   "cell_type": "markdown",
   "metadata": {},
   "source": [
    "#### 2. 데이터 수집"
   ]
  },
  {
   "cell_type": "code",
   "execution_count": 1,
   "metadata": {},
   "outputs": [
    {
     "data": {
      "text/plain": [
       "dict_keys(['data', 'target', 'feature_names', 'DESCR', 'filename'])"
      ]
     },
     "execution_count": 1,
     "metadata": {},
     "output_type": "execute_result"
    }
   ],
   "source": [
    "from sklearn.datasets import load_boston\n",
    "dataset=load_boston()\n",
    "dataset.keys()"
   ]
  },
  {
   "cell_type": "code",
   "execution_count": 2,
   "metadata": {},
   "outputs": [
    {
     "name": "stdout",
     "output_type": "stream",
     "text": [
      ".. _boston_dataset:\n",
      "\n",
      "Boston house prices dataset\n",
      "---------------------------\n",
      "\n",
      "**Data Set Characteristics:**  \n",
      "\n",
      "    :Number of Instances: 506 \n",
      "\n",
      "    :Number of Attributes: 13 numeric/categorical predictive. Median Value (attribute 14) is usually the target.\n",
      "\n",
      "    :Attribute Information (in order):\n",
      "        - CRIM     per capita crime rate by town\n",
      "        - ZN       proportion of residential land zoned for lots over 25,000 sq.ft.\n",
      "        - INDUS    proportion of non-retail business acres per town\n",
      "        - CHAS     Charles River dummy variable (= 1 if tract bounds river; 0 otherwise)\n",
      "        - NOX      nitric oxides concentration (parts per 10 million)\n",
      "        - RM       average number of rooms per dwelling\n",
      "        - AGE      proportion of owner-occupied units built prior to 1940\n",
      "        - DIS      weighted distances to five Boston employment centres\n",
      "        - RAD      index of accessibility to radial highways\n",
      "        - TAX      full-value property-tax rate per $10,000\n",
      "        - PTRATIO  pupil-teacher ratio by town\n",
      "        - B        1000(Bk - 0.63)^2 where Bk is the proportion of blacks by town\n",
      "        - LSTAT    % lower status of the population\n",
      "        - MEDV     Median value of owner-occupied homes in $1000's\n",
      "\n",
      "    :Missing Attribute Values: None\n",
      "\n",
      "    :Creator: Harrison, D. and Rubinfeld, D.L.\n",
      "\n",
      "This is a copy of UCI ML housing dataset.\n",
      "https://archive.ics.uci.edu/ml/machine-learning-databases/housing/\n",
      "\n",
      "\n",
      "This dataset was taken from the StatLib library which is maintained at Carnegie Mellon University.\n",
      "\n",
      "The Boston house-price data of Harrison, D. and Rubinfeld, D.L. 'Hedonic\n",
      "prices and the demand for clean air', J. Environ. Economics & Management,\n",
      "vol.5, 81-102, 1978.   Used in Belsley, Kuh & Welsch, 'Regression diagnostics\n",
      "...', Wiley, 1980.   N.B. Various transformations are used in the table on\n",
      "pages 244-261 of the latter.\n",
      "\n",
      "The Boston house-price data has been used in many machine learning papers that address regression\n",
      "problems.   \n",
      "     \n",
      ".. topic:: References\n",
      "\n",
      "   - Belsley, Kuh & Welsch, 'Regression diagnostics: Identifying Influential Data and Sources of Collinearity', Wiley, 1980. 244-261.\n",
      "   - Quinlan,R. (1993). Combining Instance-Based and Model-Based Learning. In Proceedings on the Tenth International Conference of Machine Learning, 236-243, University of Massachusetts, Amherst. Morgan Kaufmann.\n",
      "\n"
     ]
    }
   ],
   "source": [
    "print(dataset.DESCR)"
   ]
  },
  {
   "cell_type": "markdown",
   "metadata": {},
   "source": [
    "- CRIM  : 지역별 1인당 범죄률\n",
    "- ZN : 25000평방비트를 초과하는 거주지역의 비율\n",
    "- INDUS   : 비소매상업지역이 차지하는 면적비율\n",
    "- CHAS  :찰수강 위치변수\n",
    "-  NOX  : 일산화질소 농도\n",
    "-  RM   집의 평균 방수\n",
    "-  AGE    1940년이전에 지어진 비율\n",
    "-  DIS   5가지 보스턴시 고용 시설까지 거리\n",
    "-  RAD   순환도로의 접근 용이성\n",
    "-  TAX    10000달러당 재산 세율\n",
    "-  PTRATIO 지역별 학생과 교수 비율 \n",
    "-  B       지역별 흑인 비율\n",
    "-  LSTAT   급여가 낮은 직업에 종사하는 인구 비율\n",
    "-  MEDV   : 가격 \n"
   ]
  },
  {
   "cell_type": "markdown",
   "metadata": {},
   "source": [
    "#### 데이터 전처리"
   ]
  },
  {
   "cell_type": "code",
   "execution_count": 3,
   "metadata": {},
   "outputs": [
    {
     "name": "stderr",
     "output_type": "stream",
     "text": [
      "C:\\Users\\sjsim\\Anaconda3\\lib\\importlib\\_bootstrap.py:219: RuntimeWarning: numpy.ufunc size changed, may indicate binary incompatibility. Expected 192 from C header, got 216 from PyObject\n",
      "  return f(*args, **kwds)\n",
      "C:\\Users\\sjsim\\Anaconda3\\lib\\importlib\\_bootstrap.py:219: RuntimeWarning: numpy.ufunc size changed, may indicate binary incompatibility. Expected 192 from C header, got 216 from PyObject\n",
      "  return f(*args, **kwds)\n"
     ]
    }
   ],
   "source": [
    "import pandas as pd"
   ]
  },
  {
   "cell_type": "code",
   "execution_count": 4,
   "metadata": {},
   "outputs": [],
   "source": [
    "X=pd.DataFrame(dataset.data,columns=dataset.feature_names)"
   ]
  },
  {
   "cell_type": "code",
   "execution_count": 6,
   "metadata": {},
   "outputs": [
    {
     "data": {
      "text/html": [
       "<div>\n",
       "<style scoped>\n",
       "    .dataframe tbody tr th:only-of-type {\n",
       "        vertical-align: middle;\n",
       "    }\n",
       "\n",
       "    .dataframe tbody tr th {\n",
       "        vertical-align: top;\n",
       "    }\n",
       "\n",
       "    .dataframe thead th {\n",
       "        text-align: right;\n",
       "    }\n",
       "</style>\n",
       "<table border=\"1\" class=\"dataframe\">\n",
       "  <thead>\n",
       "    <tr style=\"text-align: right;\">\n",
       "      <th></th>\n",
       "      <th>CRIM</th>\n",
       "      <th>ZN</th>\n",
       "      <th>INDUS</th>\n",
       "      <th>CHAS</th>\n",
       "      <th>NOX</th>\n",
       "      <th>RM</th>\n",
       "      <th>AGE</th>\n",
       "      <th>DIS</th>\n",
       "      <th>RAD</th>\n",
       "      <th>TAX</th>\n",
       "      <th>PTRATIO</th>\n",
       "      <th>B</th>\n",
       "      <th>LSTAT</th>\n",
       "    </tr>\n",
       "  </thead>\n",
       "  <tbody>\n",
       "    <tr>\n",
       "      <th>0</th>\n",
       "      <td>0.00632</td>\n",
       "      <td>18.0</td>\n",
       "      <td>2.31</td>\n",
       "      <td>0.0</td>\n",
       "      <td>0.538</td>\n",
       "      <td>6.575</td>\n",
       "      <td>65.2</td>\n",
       "      <td>4.0900</td>\n",
       "      <td>1.0</td>\n",
       "      <td>296.0</td>\n",
       "      <td>15.3</td>\n",
       "      <td>396.90</td>\n",
       "      <td>4.98</td>\n",
       "    </tr>\n",
       "    <tr>\n",
       "      <th>1</th>\n",
       "      <td>0.02731</td>\n",
       "      <td>0.0</td>\n",
       "      <td>7.07</td>\n",
       "      <td>0.0</td>\n",
       "      <td>0.469</td>\n",
       "      <td>6.421</td>\n",
       "      <td>78.9</td>\n",
       "      <td>4.9671</td>\n",
       "      <td>2.0</td>\n",
       "      <td>242.0</td>\n",
       "      <td>17.8</td>\n",
       "      <td>396.90</td>\n",
       "      <td>9.14</td>\n",
       "    </tr>\n",
       "    <tr>\n",
       "      <th>2</th>\n",
       "      <td>0.02729</td>\n",
       "      <td>0.0</td>\n",
       "      <td>7.07</td>\n",
       "      <td>0.0</td>\n",
       "      <td>0.469</td>\n",
       "      <td>7.185</td>\n",
       "      <td>61.1</td>\n",
       "      <td>4.9671</td>\n",
       "      <td>2.0</td>\n",
       "      <td>242.0</td>\n",
       "      <td>17.8</td>\n",
       "      <td>392.83</td>\n",
       "      <td>4.03</td>\n",
       "    </tr>\n",
       "  </tbody>\n",
       "</table>\n",
       "</div>"
      ],
      "text/plain": [
       "      CRIM    ZN  INDUS  CHAS    NOX     RM   AGE     DIS  RAD    TAX  \\\n",
       "0  0.00632  18.0   2.31   0.0  0.538  6.575  65.2  4.0900  1.0  296.0   \n",
       "1  0.02731   0.0   7.07   0.0  0.469  6.421  78.9  4.9671  2.0  242.0   \n",
       "2  0.02729   0.0   7.07   0.0  0.469  7.185  61.1  4.9671  2.0  242.0   \n",
       "\n",
       "   PTRATIO       B  LSTAT  \n",
       "0     15.3  396.90   4.98  \n",
       "1     17.8  396.90   9.14  \n",
       "2     17.8  392.83   4.03  "
      ]
     },
     "execution_count": 6,
     "metadata": {},
     "output_type": "execute_result"
    }
   ],
   "source": [
    "X.head(3)"
   ]
  },
  {
   "cell_type": "code",
   "execution_count": 7,
   "metadata": {},
   "outputs": [],
   "source": [
    "y=pd.Series(dataset.target, name=\"price\")"
   ]
  },
  {
   "cell_type": "code",
   "execution_count": 8,
   "metadata": {},
   "outputs": [
    {
     "data": {
      "text/plain": [
       "0    24.0\n",
       "1    21.6\n",
       "2    34.7\n",
       "Name: price, dtype: float64"
      ]
     },
     "execution_count": 8,
     "metadata": {},
     "output_type": "execute_result"
    }
   ],
   "source": [
    "y.head(3)"
   ]
  },
  {
   "cell_type": "code",
   "execution_count": 9,
   "metadata": {},
   "outputs": [
    {
     "name": "stdout",
     "output_type": "stream",
     "text": [
      "(506,)\n"
     ]
    }
   ],
   "source": [
    "print(y.shape)"
   ]
  },
  {
   "cell_type": "code",
   "execution_count": 10,
   "metadata": {},
   "outputs": [
    {
     "name": "stdout",
     "output_type": "stream",
     "text": [
      "<class 'pandas.core.frame.DataFrame'>\n",
      "RangeIndex: 506 entries, 0 to 505\n",
      "Data columns (total 13 columns):\n",
      "CRIM       506 non-null float64\n",
      "ZN         506 non-null float64\n",
      "INDUS      506 non-null float64\n",
      "CHAS       506 non-null float64\n",
      "NOX        506 non-null float64\n",
      "RM         506 non-null float64\n",
      "AGE        506 non-null float64\n",
      "DIS        506 non-null float64\n",
      "RAD        506 non-null float64\n",
      "TAX        506 non-null float64\n",
      "PTRATIO    506 non-null float64\n",
      "B          506 non-null float64\n",
      "LSTAT      506 non-null float64\n",
      "dtypes: float64(13)\n",
      "memory usage: 51.5 KB\n"
     ]
    }
   ],
   "source": [
    "X.info()"
   ]
  },
  {
   "cell_type": "markdown",
   "metadata": {},
   "source": [
    "#### 4. EDA(Exploratory Data Analysis)"
   ]
  },
  {
   "cell_type": "code",
   "execution_count": 11,
   "metadata": {},
   "outputs": [],
   "source": [
    "house=pd.concat([X,y],axis=1)"
   ]
  },
  {
   "cell_type": "code",
   "execution_count": 12,
   "metadata": {},
   "outputs": [
    {
     "name": "stdout",
     "output_type": "stream",
     "text": [
      "(506, 14)\n"
     ]
    }
   ],
   "source": [
    "print(house.shape)"
   ]
  },
  {
   "cell_type": "code",
   "execution_count": 14,
   "metadata": {},
   "outputs": [
    {
     "data": {
      "text/html": [
       "<div>\n",
       "<style scoped>\n",
       "    .dataframe tbody tr th:only-of-type {\n",
       "        vertical-align: middle;\n",
       "    }\n",
       "\n",
       "    .dataframe tbody tr th {\n",
       "        vertical-align: top;\n",
       "    }\n",
       "\n",
       "    .dataframe thead th {\n",
       "        text-align: right;\n",
       "    }\n",
       "</style>\n",
       "<table border=\"1\" class=\"dataframe\">\n",
       "  <thead>\n",
       "    <tr style=\"text-align: right;\">\n",
       "      <th></th>\n",
       "      <th>CRIM</th>\n",
       "      <th>ZN</th>\n",
       "      <th>INDUS</th>\n",
       "      <th>CHAS</th>\n",
       "      <th>NOX</th>\n",
       "      <th>RM</th>\n",
       "      <th>AGE</th>\n",
       "      <th>DIS</th>\n",
       "      <th>RAD</th>\n",
       "      <th>TAX</th>\n",
       "      <th>PTRATIO</th>\n",
       "      <th>B</th>\n",
       "      <th>LSTAT</th>\n",
       "      <th>price</th>\n",
       "    </tr>\n",
       "  </thead>\n",
       "  <tbody>\n",
       "    <tr>\n",
       "      <th>0</th>\n",
       "      <td>0.00632</td>\n",
       "      <td>18.0</td>\n",
       "      <td>2.31</td>\n",
       "      <td>0.0</td>\n",
       "      <td>0.538</td>\n",
       "      <td>6.575</td>\n",
       "      <td>65.2</td>\n",
       "      <td>4.0900</td>\n",
       "      <td>1.0</td>\n",
       "      <td>296.0</td>\n",
       "      <td>15.3</td>\n",
       "      <td>396.90</td>\n",
       "      <td>4.98</td>\n",
       "      <td>24.0</td>\n",
       "    </tr>\n",
       "    <tr>\n",
       "      <th>1</th>\n",
       "      <td>0.02731</td>\n",
       "      <td>0.0</td>\n",
       "      <td>7.07</td>\n",
       "      <td>0.0</td>\n",
       "      <td>0.469</td>\n",
       "      <td>6.421</td>\n",
       "      <td>78.9</td>\n",
       "      <td>4.9671</td>\n",
       "      <td>2.0</td>\n",
       "      <td>242.0</td>\n",
       "      <td>17.8</td>\n",
       "      <td>396.90</td>\n",
       "      <td>9.14</td>\n",
       "      <td>21.6</td>\n",
       "    </tr>\n",
       "    <tr>\n",
       "      <th>2</th>\n",
       "      <td>0.02729</td>\n",
       "      <td>0.0</td>\n",
       "      <td>7.07</td>\n",
       "      <td>0.0</td>\n",
       "      <td>0.469</td>\n",
       "      <td>7.185</td>\n",
       "      <td>61.1</td>\n",
       "      <td>4.9671</td>\n",
       "      <td>2.0</td>\n",
       "      <td>242.0</td>\n",
       "      <td>17.8</td>\n",
       "      <td>392.83</td>\n",
       "      <td>4.03</td>\n",
       "      <td>34.7</td>\n",
       "    </tr>\n",
       "  </tbody>\n",
       "</table>\n",
       "</div>"
      ],
      "text/plain": [
       "      CRIM    ZN  INDUS  CHAS    NOX     RM   AGE     DIS  RAD    TAX  \\\n",
       "0  0.00632  18.0   2.31   0.0  0.538  6.575  65.2  4.0900  1.0  296.0   \n",
       "1  0.02731   0.0   7.07   0.0  0.469  6.421  78.9  4.9671  2.0  242.0   \n",
       "2  0.02729   0.0   7.07   0.0  0.469  7.185  61.1  4.9671  2.0  242.0   \n",
       "\n",
       "   PTRATIO       B  LSTAT  price  \n",
       "0     15.3  396.90   4.98   24.0  \n",
       "1     17.8  396.90   9.14   21.6  \n",
       "2     17.8  392.83   4.03   34.7  "
      ]
     },
     "execution_count": 14,
     "metadata": {},
     "output_type": "execute_result"
    }
   ],
   "source": [
    "house.head(3)"
   ]
  },
  {
   "cell_type": "code",
   "execution_count": 15,
   "metadata": {},
   "outputs": [
    {
     "name": "stderr",
     "output_type": "stream",
     "text": [
      "C:\\Users\\sjsim\\Anaconda3\\lib\\importlib\\_bootstrap.py:219: RuntimeWarning: numpy.ufunc size changed, may indicate binary incompatibility. Expected 216, got 192\n",
      "  return f(*args, **kwds)\n",
      "C:\\Users\\sjsim\\Anaconda3\\lib\\importlib\\_bootstrap.py:219: RuntimeWarning: numpy.ufunc size changed, may indicate binary incompatibility. Expected 192 from C header, got 216 from PyObject\n",
      "  return f(*args, **kwds)\n"
     ]
    }
   ],
   "source": [
    "import seaborn as sb\n",
    "import matplotlib.pyplot as plt\n",
    "%matplotlib inline"
   ]
  },
  {
   "cell_type": "code",
   "execution_count": 16,
   "metadata": {},
   "outputs": [
    {
     "data": {
      "text/plain": [
       "<matplotlib.axes._subplots.AxesSubplot at 0x24bde216e48>"
      ]
     },
     "execution_count": 16,
     "metadata": {},
     "output_type": "execute_result"
    },
    {
     "data": {
      "image/png": "[encoded data removed]",
      "text/plain": [
       "<Figure size 864x864 with 2 Axes>"
      ]
     },
     "metadata": {
      "needs_background": "light"
     },
     "output_type": "display_data"
    }
   ],
   "source": [
    "plt.figure(figsize=(12,12))\n",
    "sb.heatmap(house.corr(),annot=True)"
   ]
  },
  {
   "cell_type": "markdown",
   "metadata": {},
   "source": [
    "#### 5. 모델 선택 (Knn) ,학습 , 평가"
   ]
  },
  {
   "cell_type": "code",
   "execution_count": 17,
   "metadata": {},
   "outputs": [],
   "source": [
    "from sklearn.model_selection import train_test_split"
   ]
  },
  {
   "cell_type": "code",
   "execution_count": 18,
   "metadata": {},
   "outputs": [],
   "source": [
    "X_train,X_test, y_train, y_test=train_test_split(X,y , test_size=0.3, random_state=0)"
   ]
  },
  {
   "cell_type": "code",
   "execution_count": 19,
   "metadata": {},
   "outputs": [],
   "source": [
    "from sklearn.neighbors import KNeighborsRegressor"
   ]
  },
  {
   "cell_type": "code",
   "execution_count": 23,
   "metadata": {},
   "outputs": [
    {
     "name": "stdout",
     "output_type": "stream",
     "text": [
      "k:1, R^2:0.331\n",
      "k:2, R^2:0.495\n",
      "k:3, R^2:0.555\n",
      "k:4, R^2:0.541\n",
      "k:5, R^2:0.517\n",
      "k:6, R^2:0.487\n",
      "k:7, R^2:0.473\n",
      "k:8, R^2:0.458\n",
      "k:9, R^2:0.477\n",
      "k:10, R^2:0.460\n",
      "k:11, R^2:0.468\n",
      "k:12, R^2:0.450\n",
      "k:13, R^2:0.448\n",
      "k:14, R^2:0.425\n",
      "k:15, R^2:0.414\n",
      "k:16, R^2:0.402\n",
      "k:17, R^2:0.387\n",
      "k:18, R^2:0.379\n",
      "k:19, R^2:0.379\n",
      "k:20, R^2:0.379\n",
      "k:21, R^2:0.374\n",
      "k:22, R^2:0.368\n",
      "k:23, R^2:0.355\n",
      "k:24, R^2:0.347\n",
      "k:25, R^2:0.344\n",
      "k:26, R^2:0.336\n",
      "k:27, R^2:0.327\n",
      "k:28, R^2:0.322\n",
      "k:29, R^2:0.314\n"
     ]
    }
   ],
   "source": [
    "for k in range(1,30):\n",
    "    knn=KNeighborsRegressor(n_neighbors=k)\n",
    "    knn.fit(X_train,y_train)\n",
    "    print(\"k:{}, R^2:{:.3f}\".format(k,knn.score(X_test,y_test)))\n",
    "# 분류에서는 정확도 , 회귀에서는 R^2(결정계수) \n",
    "# 결정계수는 선형모형이 주어진 자료에 적합한 정도를 재는 척도 \n",
    "# 0 <= R^2 <= 1 1에 가까울수록 회귀식이 적합도가 높아짐 "
   ]
  },
  {
   "cell_type": "code",
   "execution_count": 24,
   "metadata": {},
   "outputs": [],
   "source": [
    "train_acc=[]\n",
    "test_acc=[]\n",
    "for k in range(1,30):\n",
    "    knn=KNeighborsRegressor(n_neighbors=k)\n",
    "    knn.fit(X_train,y_train)\n",
    "    train_acc.append(knn.score(X_train,y_train))\n",
    "    test_acc.append(knn.score(X_test,y_test))"
   ]
  },
  {
   "cell_type": "code",
   "execution_count": 75,
   "metadata": {},
   "outputs": [
    {
     "data": {
      "text/plain": [
       "<matplotlib.legend.Legend at 0x24be2be4f98>"
      ]
     },
     "execution_count": 75,
     "metadata": {},
     "output_type": "execute_result"
    },
    {
     "data": {
      "image/png": "[encoded data removed]",
      "text/plain": [
       "<Figure size 720x576 with 1 Axes>"
      ]
     },
     "metadata": {
      "needs_background": "light"
     },
     "output_type": "display_data"
    }
   ],
   "source": [
    "plt.figure(figsize=(10,8))\n",
    "plt.plot(range(1,30),train_acc,label=\"Training Accuracy\")\n",
    "plt.plot(range(1,30),test_acc,label=\"Test Accuracy\")\n",
    "plt.ylabel(\"Accuracy\")\n",
    "plt.xlabel(\"n_neighbors\")\n",
    "plt.legend()"
   ]
  },
  {
   "cell_type": "code",
   "execution_count": 76,
   "metadata": {},
   "outputs": [],
   "source": [
    "# k가 3일때 결정계수가 가장높았음 \n",
    "# knn은 거리로 판단하기 때문에 표준 스케일링 필요함"
   ]
  },
  {
   "cell_type": "markdown",
   "metadata": {},
   "source": [
    "### 표준스케일링"
   ]
  },
  {
   "cell_type": "code",
   "execution_count": 79,
   "metadata": {},
   "outputs": [],
   "source": [
    "from sklearn.preprocessing import StandardScaler"
   ]
  },
  {
   "cell_type": "code",
   "execution_count": 81,
   "metadata": {},
   "outputs": [],
   "source": [
    "scaler=StandardScaler()\n",
    "scaler.fit(X_train)\n",
    "X_train_sc=scaler.transform(X_train)\n",
    "X_test_sc=scaler.transform(X_test)"
   ]
  },
  {
   "cell_type": "code",
   "execution_count": 82,
   "metadata": {},
   "outputs": [],
   "source": [
    "train_acc=[]\n",
    "test_acc=[]\n",
    "for k in range(1,30):\n",
    "    knn=KNeighborsRegressor(n_neighbors=k)\n",
    "    knn.fit(X_train_sc,y_train)\n",
    "    train_acc.append(knn.score(X_train_sc,y_train))\n",
    "    test_acc.append(knn.score(X_test_sc,y_test))"
   ]
  },
  {
   "cell_type": "code",
   "execution_count": 83,
   "metadata": {},
   "outputs": [
    {
     "data": {
      "text/plain": [
       "<matplotlib.legend.Legend at 0x24bde559a20>"
      ]
     },
     "execution_count": 83,
     "metadata": {},
     "output_type": "execute_result"
    },
    {
     "data": {
      "image/png": "[encoded data removed]",
      "text/plain": [
       "<Figure size 720x576 with 1 Axes>"
      ]
     },
     "metadata": {
      "needs_background": "light"
     },
     "output_type": "display_data"
    }
   ],
   "source": [
    "plt.figure(figsize=(10,8))\n",
    "plt.plot(range(1,30),train_acc,label=\"Training Accuracy\")\n",
    "plt.plot(range(1,30),test_acc,label=\"Test Accuracy\")\n",
    "plt.ylabel(\"Accuracy\")\n",
    "plt.xlabel(\"n_neighbors\")\n",
    "plt.legend()"
   ]
  },
  {
   "cell_type": "code",
   "execution_count": 90,
   "metadata": {},
   "outputs": [
    {
     "data": {
      "text/plain": [
       "0.8158397654513341"
      ]
     },
     "execution_count": 90,
     "metadata": {},
     "output_type": "execute_result"
    }
   ],
   "source": [
    "knn=KNeighborsRegressor(n_neighbors=2)\n",
    "knn.fit(X_train_sc,y_train)\n",
    "knn.score(X_test_sc,y_test)"
   ]
  },
  {
   "cell_type": "code",
   "execution_count": 91,
   "metadata": {},
   "outputs": [],
   "source": [
    "# k가 2일때 결정계수가 가장 높음\n",
    "# knn은 회귀에 성능이 안좋음\n",
    "# 너무 단순한 모델이라 잘 쓰지않음 , 입문자들에게 이해시키기 적합한 모델"
   ]
  },
  {
   "cell_type": "markdown",
   "metadata": {},
   "source": [
    "### 5. 모델 선택(LinearRegression ), 학습 , 평가"
   ]
  },
  {
   "cell_type": "code",
   "execution_count": 92,
   "metadata": {},
   "outputs": [],
   "source": [
    "from sklearn.linear_model import LinearRegression"
   ]
  },
  {
   "cell_type": "code",
   "execution_count": 93,
   "metadata": {},
   "outputs": [
    {
     "data": {
      "text/plain": [
       "LinearRegression(copy_X=True, fit_intercept=True, n_jobs=None,\n",
       "         normalize=False)"
      ]
     },
     "execution_count": 93,
     "metadata": {},
     "output_type": "execute_result"
    }
   ],
   "source": [
    "lr= LinearRegression()\n",
    "lr.fit(X_train,y_train)"
   ]
  },
  {
   "cell_type": "code",
   "execution_count": 94,
   "metadata": {},
   "outputs": [
    {
     "name": "stdout",
     "output_type": "stream",
     "text": [
      "계수:[-1.15159695e+02  1.22036734e+01 -8.32034925e+01  1.35056614e+01\n",
      "  8.68911900e+00  9.85951537e+01  4.55118920e+01 -5.43553789e+01\n",
      "  1.73993000e+01  4.43562923e+01  4.77875223e+00  3.60142061e+01\n",
      "  3.77959935e+01  4.53333913e+01  4.87510926e+02  3.61669804e+02\n",
      "  2.06288646e+02 -8.83316581e+01  1.41465114e+02 -7.51000824e+01\n",
      " -5.89065728e+01  1.64788437e+02 -5.74528748e+02  2.61325094e+02\n",
      "  2.32227340e-01  8.83948006e+01 -5.82544931e+00 -1.43928200e+01\n",
      " -1.40435439e+01 -8.89748425e+01  7.21427647e+00  7.50057115e+00\n",
      " -2.41411953e+01  6.89116731e+00  3.05879293e+01  6.60209027e+00\n",
      "  1.82146806e+00 -2.43432529e+01  2.28084546e+01 -7.90021395e+00\n",
      "  4.18106458e+01  3.34327414e+01  1.07049737e+01  6.09478282e+01\n",
      " -1.38286653e+01  2.07977202e+01  1.25368107e+01  1.51268273e+01\n",
      " -1.53234934e+01  1.35056614e+01 -2.49703170e+01 -2.88322418e+01\n",
      "  1.73446528e-01  1.59387618e+01 -1.69530043e+01  3.11860417e+01\n",
      " -1.42752027e+01  2.66296239e+00 -9.31428439e+00 -1.50149560e+01\n",
      "  1.79228818e+01 -2.52546598e+01  9.36532805e+01  1.08541934e+01\n",
      "  1.74097994e+01 -7.53406444e+01  1.69575969e+00  2.73978838e+01\n",
      " -1.45489954e+00 -4.81522016e+01 -9.39387177e+00 -5.14320038e+00\n",
      " -6.68606549e+01 -2.22406405e+01 -2.39512316e+00 -4.65955235e+01\n",
      "  7.01062887e+00  3.13943676e-01  3.01968040e+01 -1.68354434e+01\n",
      "  1.68501708e+00 -2.60103907e+01 -4.53402004e+01  6.87996315e+01\n",
      " -5.12428580e+01 -1.75670496e+01 -2.78838156e+01 -2.36919448e+00\n",
      "  1.71599011e+01 -1.01230031e+02  1.13167796e+02  7.03167843e+00\n",
      "  1.29223357e+00 -1.60070895e+01 -2.08852525e+01  1.32317790e+01\n",
      " -2.44051966e+01 -3.12997183e+01  6.41023232e+00  1.17321744e+01\n",
      "  9.62560523e+00 -5.13936384e+00 -8.06825628e+00  2.18094374e+01]\n",
      "절편:-39.18836662324486\n"
     ]
    }
   ],
   "source": [
    "print(\"계수:{}\".format(lr.coef_))\n",
    "print(\"절편:{}\".format(lr.intercept_))"
   ]
  },
  {
   "cell_type": "code",
   "execution_count": 95,
   "metadata": {},
   "outputs": [
    {
     "name": "stdout",
     "output_type": "stream",
     "text": [
      "훈련 세트 점수 :0.93\n",
      "테스트 세트 점수 :0.80\n"
     ]
    }
   ],
   "source": [
    "print(\"훈련 세트 점수 :{:.2f}\".format(lr.score(X_train,y_train)))\n",
    "print(\"테스트 세트 점수 :{:.2f}\".format(lr.score(X_test,y_test)))\n"
   ]
  },
  {
   "cell_type": "code",
   "execution_count": 96,
   "metadata": {},
   "outputs": [],
   "source": [
    "from sklearn.linear_model import Ridge"
   ]
  },
  {
   "cell_type": "code",
   "execution_count": 97,
   "metadata": {},
   "outputs": [
    {
     "name": "stdout",
     "output_type": "stream",
     "text": [
      "alpha:0.0001\n",
      "훈련 세트 점수 :0.93\n",
      "테스트 세트 점수 :0.81\n",
      "alpha:0.001\n",
      "훈련 세트 점수 :0.93\n",
      "테스트 세트 점수 :0.84\n",
      "alpha:0.01\n",
      "훈련 세트 점수 :0.92\n",
      "테스트 세트 점수 :0.90\n",
      "alpha:0.1\n",
      "훈련 세트 점수 :0.89\n",
      "테스트 세트 점수 :0.92\n",
      "alpha:1\n",
      "훈련 세트 점수 :0.84\n",
      "테스트 세트 점수 :0.88\n",
      "alpha:10\n",
      "훈련 세트 점수 :0.73\n",
      "테스트 세트 점수 :0.78\n",
      "alpha:100\n",
      "훈련 세트 점수 :0.53\n",
      "테스트 세트 점수 :0.53\n",
      "alpha:1000\n",
      "훈련 세트 점수 :0.24\n",
      "테스트 세트 점수 :0.22\n",
      "alpha:10000\n",
      "훈련 세트 점수 :0.04\n",
      "테스트 세트 점수 :0.04\n"
     ]
    }
   ],
   "source": [
    "alpha_list=[0.0001,0.001,0.01,0.1,1,10,100,1000,10000]\n",
    "for i in alpha_list:\n",
    "    ridge=Ridge(alpha=i )\n",
    "    ridge.fit(X_train,y_train)\n",
    "    print(\"alpha:{}\".format(i))\n",
    "    print(\"훈련 세트 점수 :{:.2f}\".format(ridge.score(X_train,y_train)))\n",
    "    print(\"테스트 세트 점수 :{:.2f}\".format(ridge.score(X_test,y_test)))"
   ]
  },
  {
   "cell_type": "code",
   "execution_count": 98,
   "metadata": {},
   "outputs": [],
   "source": [
    "from sklearn.linear_model import Lasso"
   ]
  },
  {
   "cell_type": "code",
   "execution_count": 99,
   "metadata": {},
   "outputs": [
    {
     "name": "stdout",
     "output_type": "stream",
     "text": [
      "alpha:0.0001\n",
      "훈련 세트 점수 :0.92\n",
      "테스트 세트 점수 :0.86\n",
      "alpha:0.001\n",
      "훈련 세트 점수 :0.91\n",
      "테스트 세트 점수 :0.90\n",
      "alpha:0.01\n",
      "훈련 세트 점수 :0.86\n",
      "테스트 세트 점수 :0.91\n",
      "alpha:0.1\n",
      "훈련 세트 점수 :0.70\n",
      "테스트 세트 점수 :0.78\n",
      "alpha:1\n",
      "훈련 세트 점수 :0.25\n",
      "테스트 세트 점수 :0.22\n",
      "alpha:10\n",
      "훈련 세트 점수 :0.00\n",
      "테스트 세트 점수 :-0.00\n",
      "alpha:100\n",
      "훈련 세트 점수 :0.00\n",
      "테스트 세트 점수 :-0.00\n",
      "alpha:1000\n",
      "훈련 세트 점수 :0.00\n",
      "테스트 세트 점수 :-0.00\n",
      "alpha:10000\n",
      "훈련 세트 점수 :0.00\n",
      "테스트 세트 점수 :-0.00\n"
     ]
    },
    {
     "name": "stderr",
     "output_type": "stream",
     "text": [
      "C:\\Users\\sjsim\\Anaconda3\\lib\\site-packages\\sklearn\\linear_model\\coordinate_descent.py:492: ConvergenceWarning: Objective did not converge. You might want to increase the number of iterations. Fitting data with very small alpha may cause precision problems.\n",
      "  ConvergenceWarning)\n",
      "C:\\Users\\sjsim\\Anaconda3\\lib\\site-packages\\sklearn\\linear_model\\coordinate_descent.py:492: ConvergenceWarning: Objective did not converge. You might want to increase the number of iterations. Fitting data with very small alpha may cause precision problems.\n",
      "  ConvergenceWarning)\n",
      "C:\\Users\\sjsim\\Anaconda3\\lib\\site-packages\\sklearn\\linear_model\\coordinate_descent.py:492: ConvergenceWarning: Objective did not converge. You might want to increase the number of iterations. Fitting data with very small alpha may cause precision problems.\n",
      "  ConvergenceWarning)\n"
     ]
    }
   ],
   "source": [
    "alpha_list=[0.0001,0.001,0.01,0.1,1,10,100,1000,10000]\n",
    "for i in alpha_list:\n",
    "    lasso=Lasso(alpha=i )\n",
    "    lasso.fit(X_train,y_train)\n",
    "    print(\"alpha:{}\".format(i))\n",
    "    print(\"훈련 세트 점수 :{:.2f}\".format(lasso.score(X_train,y_train)))\n",
    "    print(\"테스트 세트 점수 :{:.2f}\".format(lasso.score(X_test,y_test)))"
   ]
  },
  {
   "cell_type": "code",
   "execution_count": 100,
   "metadata": {},
   "outputs": [],
   "source": [
    "from sklearn.model_selection import cross_val_score"
   ]
  },
  {
   "cell_type": "code",
   "execution_count": 103,
   "metadata": {},
   "outputs": [
    {
     "name": "stdout",
     "output_type": "stream",
     "text": [
      "alpha:0.0001\n",
      "교차검증 점수 :0.81\n",
      "alpha:0.001\n",
      "교차검증 점수 :0.83\n",
      "alpha:0.01\n",
      "교차검증 점수 :0.82\n",
      "alpha:0.1\n",
      "교차검증 점수 :0.81\n",
      "alpha:1\n",
      "교차검증 점수 :0.78\n",
      "alpha:10\n",
      "교차검증 점수 :0.68\n",
      "alpha:100\n",
      "교차검증 점수 :0.47\n",
      "alpha:1000\n",
      "교차검증 점수 :0.19\n",
      "alpha:10000\n",
      "교차검증 점수 :0.02\n"
     ]
    }
   ],
   "source": [
    "alpha_list=[0.0001,0.001,0.01,0.1,1,10,100,1000,10000]\n",
    "for i in alpha_list:\n",
    "    ridge=Ridge(alpha=i )\n",
    "    score=cross_val_score(ridge, X_train,y_train,cv=5).mean()\n",
    "    print(\"alpha:{}\".format(i))\n",
    "    print(\"교차검증 점수 :{:.2f}\".format(score))  "
   ]
  },
  {
   "cell_type": "code",
   "execution_count": 104,
   "metadata": {},
   "outputs": [
    {
     "name": "stdout",
     "output_type": "stream",
     "text": [
      "훈련 세트 점수 :0.93\n",
      "테스트 세트 점수 :0.84\n"
     ]
    }
   ],
   "source": [
    "ridge=Ridge(alpha=0.001)\n",
    "ridge.fit(X_train,y_train)\n",
    "print(\"훈련 세트 점수 :{:.2f}\".format(ridge.score(X_train,y_train)))\n",
    "print(\"테스트 세트 점수 :{:.2f}\".format(ridge.score(X_test,y_test)))"
   ]
  },
  {
   "cell_type": "code",
   "execution_count": null,
   "metadata": {},
   "outputs": [],
   "source": []
  }
 ],
 "metadata": {
  "kernelspec": {
   "display_name": "Python 3",
   "language": "python",
   "name": "python3"
  },
  "language_info": {
   "codemirror_mode": {
    "name": "ipython",
    "version": 3
   },
   "file_extension": ".py",
   "mimetype": "text/x-python",
   "name": "python",
   "nbconvert_exporter": "python",
   "pygments_lexer": "ipython3",
   "version": "3.7.3"
  }
 },
 "nbformat": 4,
 "nbformat_minor": 2
}
